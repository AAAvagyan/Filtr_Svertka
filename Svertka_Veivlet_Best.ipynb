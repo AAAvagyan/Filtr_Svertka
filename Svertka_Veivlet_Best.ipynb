{
 "cells": [
  {
   "cell_type": "code",
   "execution_count": null,
   "id": "65ea68fa",
   "metadata": {},
   "outputs": [],
   "source": [
    "import numpy as np\n",
    "import math\n",
    "import matplotlib.pyplot as plt"
   ]
  },
  {
   "cell_type": "code",
   "execution_count": null,
   "id": "e092962a",
   "metadata": {},
   "outputs": [],
   "source": [
    "def Svertka(X,Xstart,H,Hstart):\n",
    "    len_x = len(X)\n",
    "    len_h = len(H)\n",
    "\n",
    "    Y = [0] * (len_x + len_h - 1)\n",
    "    len_y = len(Y)\n",
    "    Ystart = Xstart + Hstart\n",
    "\n",
    "    for j in range(len_y):\n",
    "        Sum = 0\n",
    "        for i in range(len_x):\n",
    "            for k in range(len_h):\n",
    "                if( i + k== j): #<=> i + k + Xstart + Hstart = j + Ystart\n",
    "                    Sum += X[ i ] * H[ k ]\n",
    "                Y[j] = Sum\n",
    "\n",
    "    Y.append([Ystart])\n",
    "    return Y"
   ]
  },
  {
   "cell_type": "code",
   "execution_count": null,
   "id": "9058cc3b",
   "metadata": {},
   "outputs": [],
   "source": [
    "def Sjatie(X,Xstart,p):\n",
    "    len_x = len(X)\n",
    "    Y =[]\n",
    "    if Xstart %p == 0:\n",
    "        Ystart = (Xstart//p)\n",
    "    else:\n",
    "        Ystart = (Xstart//p)+1\n",
    "    for i in range(len_x):\n",
    "        if (i - Xstart) %p == 0:\n",
    "            Y.append(X[i])\n",
    "            Y.append([Ystart])\n",
    "    return Y"
   ]
  },
  {
   "cell_type": "code",
   "execution_count": null,
   "id": "fa419747",
   "metadata": {},
   "outputs": [],
   "source": [
    "def Rastiajenie (X,Xstart,p):\n",
    "    if X == [] :\n",
    "    return []\n",
    "\n",
    "    len_x = len(X)\n",
    "    Y =[]\n",
    "    Ystart = Xstart * p\n",
    "\n",
    "    for i in range(len_x-1):\n",
    "        Y.append(X[i])\n",
    "        for j in range (p-1):\n",
    "            Y.append(0)\n",
    "    Y.append(X[-1])\n",
    "\n",
    "    Y.append ([Ystart])\n",
    "    return Y"
   ]
  },
  {
   "cell_type": "code",
   "execution_count": null,
   "id": "eaeb6f49",
   "metadata": {},
   "outputs": [],
   "source": [
    "def Summa(X,Y):\n",
    "    len_x = len(X)\n",
    "    otv = []\n",
    "    for i in range(len_x):\n",
    "        otv.append( X[i] + Y[i])\n",
    "    return otv"
   ]
  },
  {
   "cell_type": "code",
   "execution_count": null,
   "id": "86bdd8ff",
   "metadata": {},
   "outputs": [],
   "source": [
    "def prt(X):\n",
    "    l = len(X)\n",
    "    y = []\n",
    "    for i in range(l):\n",
    "        y.append(round(X[i],1))\n",
    "\n",
    "    return y"
   ]
  },
  {
   "cell_type": "code",
   "execution_count": null,
   "id": "c9e71a3b",
   "metadata": {},
   "outputs": [],
   "source": [
    "def minus(X,c): # c = 0 или 1\n",
    "    l = len(X)\n",
    "    otv = [0] * l\n",
    "    start = X[-1][0]\n",
    "\n",
    "    otv[-1] = X[-1]\n",
    "\n",
    "    for i in range(l-1):\n",
    "        if (i + start) % 2 == c:\n",
    "            otv[i] = -X[i]\n",
    "        else:\n",
    "            otv[i] = X[i]\n",
    "    return otv"
   ]
  },
  {
   "cell_type": "code",
   "execution_count": null,
   "id": "c9c6e5c2",
   "metadata": {},
   "outputs": [],
   "source": [
    "def findH1(F_0):\n",
    "    H_1 = minus(F_0,0)\n",
    "    H_1 = H_1[:-1] + [[H_1[-1][0]+1]]\n",
    "    return H_1\n",
    "\n",
    "def findF1(H_0):\n",
    "    H_0 = H_0[:-1] + [[H_0[-1][0]-1]]\n",
    "    F_1 = minus(H_0,1)\n",
    "    return F_1"
   ]
  },
  {
   "cell_type": "code",
   "execution_count": null,
   "id": "4e8c645e",
   "metadata": {},
   "outputs": [],
   "source": [
    "s2 = 1/math.sqrt(2)\n",
    "H_0 = [s2,s2,[0]]\n",
    "F_0 = [s2,s2,[-1]]\n",
    "print(\"F1 —-\",findF1(H_0))\n",
    "print(\"H1 —-\",findH1(F_0))\n"
   ]
  },
  {
   "cell_type": "code",
   "execution_count": null,
   "id": "1b803632",
   "metadata": {},
   "outputs": [],
   "source": [
    "def Filter(X,Xstart,p = 2):\n",
    "    s2 = 1/math.sqrt(2)\n",
    "\n",
    "    H_0 = [s2,s2]\n",
    "    H_0_Start = 0\n",
    "\n",
    "    H_1 = [s2,-s2]\n",
    "    H_1_Start = 0\n",
    "\n",
    "    F_0 = [s2,s2]\n",
    "    F_0_Start = -1\n",
    "\n",
    "    F_1 = [-s2,s2]\n",
    "    F_1_Start = -1\n",
    "\n",
    "    X1 = Svertka( X, Xstart, H_0, H_0_Start)\n",
    "\n",
    "    X1 = Sjatie (X1[ : -1], X1[-1][0], p)\n",
    "    X1 = Rastiajenie(X1[ : -1], X1[-1][0], p)\n",
    "    \n",
    "    X1 = Svertka(X1[:-1], X1[-1][0], F_0, F_0_Start)\n",
    "\n",
    "\n",
    "    X2 = Svertka(X,Xstart,H_1,H_1_Start)\n",
    "\n",
    "    X2 = Sjatie (X2[ : -1], X2[-1][0], p)\n",
    "    X2 = Rastiajenie(X2[ : -1], X2[-1][0], p)\n",
    "\n",
    "    X2 = Svertka(X2[:-1],X2[-1][0],F_1,F_1_Start)\n",
    "\n",
    "# print(prt(X1[:-1]), X1[-1])\n",
    "# print(prt(X2[:-1]), X2[-1])\n",
    "    otv = Summa(X1[:-1],X2[:-1])\n",
    "    otv.append(X1[-1])\n",
    "    return otv"
   ]
  },
  {
   "cell_type": "code",
   "execution_count": null,
   "id": "17394f39",
   "metadata": {},
   "outputs": [],
   "source": [
    "X = [0,0,1,1,1,1,2]\n",
    "Xstart = 0\n",
    "otv = Filter(X,Xstart)\n",
    "print(prt(otv[:-1]),otv[-1])"
   ]
  },
  {
   "cell_type": "code",
   "execution_count": null,
   "id": "311d1171",
   "metadata": {},
   "outputs": [],
   "source": []
  }
 ],
 "metadata": {
  "kernelspec": {
   "display_name": "Python 3",
   "language": "python",
   "name": "python3"
  },
  "language_info": {
   "codemirror_mode": {
    "name": "ipython",
    "version": 3
   },
   "file_extension": ".py",
   "mimetype": "text/x-python",
   "name": "python",
   "nbconvert_exporter": "python",
   "pygments_lexer": "ipython3",
   "version": "3.8.8"
  }
 },
 "nbformat": 4,
 "nbformat_minor": 5
}
